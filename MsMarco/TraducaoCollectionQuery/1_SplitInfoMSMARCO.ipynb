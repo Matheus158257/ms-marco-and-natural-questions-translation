{
 "cells": [
  {
   "cell_type": "code",
   "execution_count": 1,
   "metadata": {},
   "outputs": [],
   "source": [
    "collections_path = 'C:\\\\Users\\\\Matheus\\\\Desktop\\\\Pos_Graduacao\\\\NLP\\\\Projeto\\\\Datasets\\\\MS MARCO 2020\\\\collectionsandqueries\\\\collection.tsv'\n",
    "queries_dev_path = 'C:\\\\Users\\\\Matheus\\\\Desktop\\\\Pos_Graduacao\\\\NLP\\\\Projeto\\\\Datasets\\\\MS MARCO 2020\\\\collectionsandqueries\\\\queries.dev.tsv'\n"
   ]
  },
  {
   "cell_type": "code",
   "execution_count": 2,
   "metadata": {},
   "outputs": [],
   "source": [
    "import jsonlines\n",
    "import pdb\n",
    "import re\n",
    "import pandas as pd\n",
    "import math\n",
    "import csv"
   ]
  },
  {
   "cell_type": "code",
   "execution_count": 3,
   "metadata": {},
   "outputs": [],
   "source": [
    "import spacy\n",
    "from spacy.lang.en import English"
   ]
  },
  {
   "cell_type": "code",
   "execution_count": 4,
   "metadata": {},
   "outputs": [],
   "source": [
    "def load_text_tsv_chunck(complete_path,n_rows):\n",
    "    csv_file =  open(complete_path, encoding=\"cp1252\",mode = 'r',errors='ignore')\n",
    "    csv_reader = csv.reader(csv_file, delimiter='\\t')\n",
    "    rows = []\n",
    "    i = 0\n",
    "    for row in csv_reader:\n",
    "        rows.append(row)\n",
    "        i+=1\n",
    "        if i == n_rows:\n",
    "            break\n",
    "    return rows"
   ]
  },
  {
   "cell_type": "code",
   "execution_count": 5,
   "metadata": {},
   "outputs": [],
   "source": [
    "def chunkstring_spacy(text):\n",
    "    chunck_sentences = []\n",
    "    nlp = English()\n",
    "    nlp.add_pipe(nlp.create_pipe('sentencizer'))\n",
    "    doc = nlp(text)\n",
    "    for sent in doc.sents:\n",
    "        chunck_sentences.append(sent.text)\n",
    "        \n",
    "    return chunck_sentences"
   ]
  },
  {
   "cell_type": "code",
   "execution_count": 9,
   "metadata": {},
   "outputs": [],
   "source": [
    "def tsv_to_df(n_rows=1000):\n",
    "    \n",
    "    df_collecions = pd.DataFrame(columns=['PID','PASSAGE'])\n",
    "    df_queries = pd.DataFrame(columns=['QID','QUERY'])\n",
    "    collections = load_text_tsv_chunck(collections_path,n_rows)\n",
    "    queries = load_text_tsv_chunck(queries_dev_path,n_rows)\n",
    "    \n",
    "    for i in range(0,len(collections)):\n",
    "            \n",
    "        # Document Text\n",
    "        collections_chuncks = chunkstring_spacy(collections[i][1])\n",
    "        for chunk in collections_chuncks:\n",
    "            df_collecions = df_collecions.append(pd.Series([collections[i][0],chunk], index=df_collecions.columns), ignore_index=True)\n",
    "        \n",
    "        # Queries\n",
    "        \n",
    "        df_queries = df_queries.append(pd.Series([queries[i][0],queries[i][1]], index=df_queries.columns), ignore_index=True)\n",
    "    \n",
    "        \n",
    "    pdb.set_trace()\n",
    "\n",
    "           \n",
    "    return df_collecions,df_queries\n",
    "     "
   ]
  },
  {
   "cell_type": "code",
   "execution_count": 10,
   "metadata": {},
   "outputs": [],
   "source": [
    "def save_in_tables(df_collecions,df_queries):\n",
    "    # Collections\n",
    "    compression_opts = dict(method='zip', archive_name='df_collecions.csv') \n",
    "    df_collecions.to_csv('df_collecions.zip', index=False,compression=compression_opts)\n",
    "\n",
    "    # Queries\n",
    "    compression_opts = dict(method='zip', archive_name='df_queries.csv') \n",
    "    df_queries.to_csv('df_queries.zip', index=False,compression=compression_opts)"
   ]
  },
  {
   "cell_type": "code",
   "execution_count": 11,
   "metadata": {},
   "outputs": [
    {
     "name": "stdout",
     "output_type": "stream",
     "text": [
      "> <ipython-input-9-ca8df64be0f4>(23)tsv_to_df()\n",
      "-> return df_collecions,df_queries\n",
      "(Pdb) df_collecions\n",
      "      PID                                            PASSAGE\n",
      "0       0  The presence of communication amid scientific ...\n",
      "1       0  The only cloud hanging over the impressive ach...\n",
      "2       1  The Manhattan Project and its atomic bomb help...\n",
      "3       1  Its legacy of peaceful uses of atomic energy c...\n",
      "4       2  Essay on The Manhattan Project - The Manhattan...\n",
      "...   ...                                                ...\n",
      "3171  996  Put the second and third fingers of one hand o...\n",
      "3172  997  QuickFacts data are derived from: Population E...\n",
      "3173  998  selected: Matanuska-Susitna Borough, Alaska; U...\n",
      "3174  998  QuickFacts provides statistics for all states ...\n",
      "3175  999  Matanuska-Susitna Valley (/mÃƒÂ¦tÃ‰Â™Ã‹ÂˆnuÃ‹Â...\n",
      "\n",
      "[3176 rows x 2 columns]\n",
      "(Pdb) df_queries\n",
      "         QID                                   QUERY\n",
      "0    1048578          cost of endless pools/swim spa\n",
      "1    1048579                            what is pcnt\n",
      "2    1048580                       what is pcb waste\n",
      "3    1048581                           what is pbis?\n",
      "4    1048582                          what is paysky\n",
      "..       ...                                     ...\n",
      "995  1050820                    who sings borderline\n",
      "996   655734  what dose does cyclobenzaprine come in\n",
      "997  1050822                  who sings boys in blue\n",
      "998   788682                   what is python's repl\n",
      "999  1050828                     what is modifier lc\n",
      "\n",
      "[1000 rows x 2 columns]\n",
      "(Pdb) c\n"
     ]
    }
   ],
   "source": [
    "df_collecions,df_queries = tsv_to_df()"
   ]
  },
  {
   "cell_type": "code",
   "execution_count": 12,
   "metadata": {},
   "outputs": [],
   "source": [
    "save_in_tables(df_collecions,df_queries)"
   ]
  }
 ],
 "metadata": {
  "kernelspec": {
   "display_name": "myenv",
   "language": "python",
   "name": "myenv"
  },
  "language_info": {
   "codemirror_mode": {
    "name": "ipython",
    "version": 3
   },
   "file_extension": ".py",
   "mimetype": "text/x-python",
   "name": "python",
   "nbconvert_exporter": "python",
   "pygments_lexer": "ipython3",
   "version": "3.8.3"
  }
 },
 "nbformat": 4,
 "nbformat_minor": 4
}

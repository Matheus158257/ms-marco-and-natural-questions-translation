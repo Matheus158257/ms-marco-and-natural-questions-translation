{
 "cells": [
  {
   "cell_type": "code",
   "execution_count": 1,
   "metadata": {},
   "outputs": [],
   "source": [
    "root_nq_files = 'C:\\\\Users\\\\Matheus\\\\Desktop\\\\Pós Graduação\\\\NLP\\\\Projeto\\\\Datasets\\\\NATURAL_QUESTIONS\\\\csvs'\n",
    "nq_doc_text_path = root_nq_files + '\\\\nq_doc_text_chunck.csv'\n",
    "nq_long_answer_path = root_nq_files + '\\\\nq_long_answer_chunck.csv'\n",
    "nq_short_answer_path = root_nq_files + '\\\\nq_short_answer_chunck.csv'\n",
    "nq_question_path = root_nq_files + '\\\\nq_question_chunck.csv'\n",
    "nq_infos_path = root_nq_files + '\\\\nq_infos_chunck.csv'\n"
   ]
  },
  {
   "cell_type": "code",
   "execution_count": 2,
   "metadata": {},
   "outputs": [],
   "source": [
    "import jsonlines\n",
    "import pdb\n",
    "import re\n",
    "import pandas as pd\n",
    "import math"
   ]
  },
  {
   "cell_type": "code",
   "execution_count": 3,
   "metadata": {},
   "outputs": [],
   "source": [
    "nq_doc_text_df = pd.read_csv(nq_doc_text_path)  \n",
    "nq_long_answer_df = pd.read_csv(nq_long_answer_path)  \n",
    "nq_short_answer_df = pd.read_csv(nq_short_answer_path)  \n",
    "nq_question_df = pd.read_csv(nq_question_path)  \n",
    "nq_infos_df = pd.read_csv(nq_infos_path)  "
   ]
  },
  {
   "cell_type": "code",
   "execution_count": 6,
   "metadata": {},
   "outputs": [],
   "source": [
    "ids_unicos = nq_infos_df['ID'].unique()"
   ]
  },
  {
   "cell_type": "code",
   "execution_count": 7,
   "metadata": {},
   "outputs": [],
   "source": [
    "nq_translated_list = [] \n",
    "for id_unico in ids_unicos:\n",
    "    #infos\n",
    "    try:\n",
    "        document_url = nq_infos_df.loc[nq_infos_df['ID'] == id_unico]['DOCUMENT_URL'].values[0]\n",
    "        yes_no_answer = nq_infos_df.loc[nq_infos_df['ID'] == id_unico]['YES_NO_ANSWER'].values[0]\n",
    "    except:\n",
    "        import pdb;pdb.set_trace()\n",
    "\n",
    "    #Question Text\n",
    "    question = nq_question_df.loc[nq_question_df['ID'] == id_unico]['QUESTION'].values[0]\n",
    "    # Document Text\n",
    "    doc_text = ''\n",
    "    nq_doc_text_df_id_unico = nq_doc_text_df.loc[nq_doc_text_df['ID'] == id_unico]\n",
    "    for i,row in nq_doc_text_df_id_unico.iterrows():\n",
    "        doc_text = doc_text + row['DOC_TEXT'] + ' '\n",
    "    doc_text = doc_text.lstrip()\n",
    "    \n",
    "    # Long Answer Text\n",
    "    long_answer_text = ''\n",
    "    long_answer_text_id_unico = nq_long_answer_df.loc[nq_long_answer_df['ID'] == id_unico]\n",
    "    for i,row in long_answer_text_id_unico.iterrows():\n",
    "        long_answer_text += row['LONG_ANSWER']\n",
    "    long_answer_text = long_answer_text.lstrip()\n",
    "    \n",
    "    if long_answer_text:\n",
    "        start_la = long_answer_text_id_unico['START_LA'].values[0]\n",
    "        end_la = long_answer_text_id_unico['END_LA'].values[0]\n",
    "        long_answer_dict = {'long_answer':long_answer_text,'start_token':start_la ,'end_token':end_la}\n",
    "    else:\n",
    "        long_answer_dict = {}\n",
    "    \n",
    "    # Short Answer Text\n",
    "    short_answers_list = []\n",
    "    short_answer_text_id_unico = nq_short_answer_df.loc[nq_short_answer_df['ID'] == id_unico]\n",
    "    for i,row in short_answer_text_id_unico.iterrows():\n",
    "        dict_short_ansewr = {'short_answer':row['SHORT_ANSWER'], 'start_token':row['START_SA'],'end_token':row['END_SA'] }\n",
    "        short_answers_list.append(dict_short_ansewr)\n",
    "        \n",
    "        \n",
    "    \n",
    "    nq_translated =   {\n",
    "            \"example_id\":id_unico ,\n",
    "            \"document_url\": document_url,\n",
    "            \"question_text\": question,\n",
    "            \"document_text\": doc_text,\n",
    "            \"annotations\": [{\n",
    "              \"long_answer\": long_answer_dict,\n",
    "              \"short_answers\": short_answers_list,\n",
    "              \"yes_no_answer\": yes_no_answer,\n",
    "            }]\n",
    "        }\n",
    "    nq_translated_list.append(nq_translated)\n"
   ]
  },
  {
   "cell_type": "code",
   "execution_count": null,
   "metadata": {},
   "outputs": [],
   "source": [
    "with jsonlines.open('portuguese_natural_questions.jsonl', mode='w') as writer:\n",
    "    for row_dict in nq_translated_list:\n",
    "        writer.write(row_dict)"
   ]
  }
 ],
 "metadata": {
  "kernelspec": {
   "display_name": "myenv",
   "language": "python",
   "name": "myenv"
  },
  "language_info": {
   "codemirror_mode": {
    "name": "ipython",
    "version": 3
   },
   "file_extension": ".py",
   "mimetype": "text/x-python",
   "name": "python",
   "nbconvert_exporter": "python",
   "pygments_lexer": "ipython3",
   "version": "3.8.3"
  }
 },
 "nbformat": 4,
 "nbformat_minor": 4
}

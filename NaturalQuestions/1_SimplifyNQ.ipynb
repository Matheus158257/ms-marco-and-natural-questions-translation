{
 "cells": [
  {
   "cell_type": "code",
   "execution_count": 1,
   "metadata": {},
   "outputs": [],
   "source": [
    "train_nq_path = 'C:\\\\Users\\\\Matheus\\\\Desktop\\\\Pós Graduação\\\\NLP\\\\Projeto\\\\Datasets\\\\NATURAL_QUESTIONS\\simplified-nq-train.jsonl'\n"
   ]
  },
  {
   "cell_type": "code",
   "execution_count": 2,
   "metadata": {},
   "outputs": [],
   "source": [
    "import jsonlines\n",
    "import pdb\n",
    "import re"
   ]
  },
  {
   "cell_type": "code",
   "execution_count": 3,
   "metadata": {},
   "outputs": [],
   "source": [
    "class SimplifyNQ():\n",
    "    def __init__(self, nq_example):\n",
    "        \n",
    "        self.nq_example = nq_example\n",
    "        self.example_id = nq_example['example_id']\n",
    "        self.document_url = nq_example['document_url']\n",
    "        self.question_text = nq_example['question_text']\n",
    "        self.document_text = nq_example['document_text']\n",
    "        self.annotations = nq_example['annotations']\n",
    "        \n",
    "          \n",
    "\n",
    "    \n",
    "    def text_filter(self,original_text):\n",
    "        text = re.sub('{.*?}', '', original_text) #Remoção das tags de color:{#000000}\n",
    "        text = re.sub('<.*?>', '', text) #Remoção das tags de espaço ou qualquer outra que aparecer\n",
    "        text = re.sub('/\\r\\n|\\n|\\r|', '',text);#Remoção de line breaks por \\n e \\r\n",
    "        text = re.sub(' +', ' ',text) #Transformação de multiplos espaços em um único espaço\n",
    "        text = text.strip(' ')\n",
    "        return text\n",
    "    \n",
    "        \n",
    "        \n",
    "        \n",
    "    def define_newstart_newend_long_answer(self,type_answer='long_answer'):\n",
    "        \n",
    "        \n",
    "        start_token = self.annotations[0][type_answer]['start_token']\n",
    "        end_token = self.annotations[0][type_answer]['end_token']\n",
    "        \n",
    "        new_start_token_list = self.text_filter(\" \".join(self.document_text.split(\" \")[:start_token])).split(\" \")\n",
    "        new_start_token = 0 if (new_start_token_list[0]=='' and len(new_start_token_list)==1) else len(new_start_token_list)\n",
    "        \n",
    "        \n",
    "        \n",
    "        new_end_token = len(self.text_filter(\" \".join(self.document_text.split(\" \")[:end_token])).split(\" \"))\n",
    "        \n",
    "        \n",
    "        \n",
    "        return new_start_token, new_end_token\n",
    "        \n",
    "    \n",
    "    def get_long_answer(self):\n",
    "        \n",
    "        long_answer_dict = {}\n",
    "        start_token = self.annotations[0]['long_answer']['start_token']\n",
    "        end_token = self.annotations[0]['long_answer']['end_token']\n",
    "        long_answer = \" \".join(self.document_text.split(\" \")[start_token:end_token])\n",
    "        long_answer = self.text_filter(long_answer)\n",
    "        new_start_token, new_end_token = self.define_newstart_newend_long_answer()\n",
    "        \n",
    "        \n",
    "#         long_answer_dict['long_answer'] = long_answer\n",
    "        long_answer_dict['start_token'] = new_start_token\n",
    "        long_answer_dict['end_token'] = new_end_token\n",
    "        \n",
    "        return long_answer_dict\n",
    "    \n",
    "    \n",
    "    \n",
    "    def define_newstart_newend_short_answer(self,i,type_answer='short_answers'):\n",
    "        \n",
    "        \n",
    "        start_token = self.annotations[0][type_answer][i]['start_token']\n",
    "        end_token = self.annotations[0][type_answer][i]['end_token']\n",
    "        \n",
    "        new_start_token_list = self.text_filter(\" \".join(self.document_text.split(\" \")[:start_token])).split(\" \")\n",
    "        new_start_token = 0 if (new_start_token_list[0]=='' and len(new_start_token_list)==1) else len(new_start_token_list)\n",
    "        new_end_token = len(self.text_filter(\" \".join(self.document_text.split(\" \")[:end_token])).split(\" \"))\n",
    "        \n",
    "        return new_start_token, new_end_token\n",
    "    \n",
    "    \n",
    "    def get_short_answers(self):\n",
    "        short_answers = []\n",
    "        for i,short_answer in enumerate(self.annotations[0]['short_answers']):\n",
    "            short_answer_dict = {}\n",
    "            start_token = short_answer['start_token']\n",
    "            end_token = short_answer['end_token']\n",
    "            short_answer = \" \".join(self.document_text.split(\" \")[start_token:end_token])\n",
    "            short_answer = self.text_filter(short_answer)\n",
    "            \n",
    "            \n",
    "            \n",
    "            new_start, new_end = self.define_newstart_newend_short_answer(i)\n",
    "#             short_answer_dict['short_answer'] = short_answer\n",
    "            short_answer_dict['start_token'] = new_start\n",
    "            short_answer_dict['end_token'] = new_end\n",
    "            \n",
    "            short_answers.append(short_answer_dict)\n",
    "            \n",
    "            \n",
    "        \n",
    "        return short_answers\n",
    "\n",
    "\n",
    "\n",
    "    def get_yes_no_answer(self):\n",
    "        return self.annotations[0]['yes_no_answer']\n",
    "         \n",
    "    \n",
    "    \n",
    "    def get_nq_simplifyed(self):\n",
    "        nq_simplified =   {\n",
    "            \"example_id\": self.example_id ,\n",
    "            \"document_url\": self.document_url,\n",
    "            \"question_text\": self.text_filter(self.question_text),\n",
    "            \"document_text\": self.text_filter(self.document_text),\n",
    "            \"annotations\": [{\n",
    "              \"long_answer\": self.get_long_answer(),\n",
    "              \"short_answers\": self.get_short_answers(),\n",
    "              \"yes_no_answer\": self.get_yes_no_answer(),\n",
    "            }]\n",
    "        }\n",
    "        return nq_simplified"
   ]
  },
  {
   "cell_type": "code",
   "execution_count": 10,
   "metadata": {},
   "outputs": [],
   "source": [
    "dummy_example = {\n",
    "        \"example_id\": 3902,\n",
    "        \"document_url\": \"http://wikipedia.org/en/strings\",\n",
    "        \"question_text\": \"<h1>what is a string</h1>\",\n",
    "        \"document_text\": \"<P> A string is a list of characters in order . </P>\",\n",
    "        \"annotations\": [{\n",
    "          \"long_answer\": { \"start_token\": 0, \"end_token\": 12 },\n",
    "          \"short_answers\": [{ \"start_token\": 5, \"end_token\": 8 }],\n",
    "          \"yes_no_answer\": \"NONE\",\n",
    "        }],\n",
    "        \"long_answer_candidates\": [\n",
    "          {\"start_token\": 0, \"end_token\": 12, \"top_level\": True}\n",
    "        ]\n",
    "      }"
   ]
  },
  {
   "cell_type": "code",
   "execution_count": 11,
   "metadata": {},
   "outputs": [
    {
     "data": {
      "text/plain": [
       "{'example_id': 3902,\n",
       " 'document_url': 'http://wikipedia.org/en/strings',\n",
       " 'question_text': 'what is a string',\n",
       " 'document_text': 'A string is a list of characters in order .',\n",
       " 'annotations': [{'long_answer': {'start_token': 0, 'end_token': 10},\n",
       "   'short_answers': [{'start_token': 4, 'end_token': 7}],\n",
       "   'yes_no_answer': 'NONE'}]}"
      ]
     },
     "execution_count": 11,
     "metadata": {},
     "output_type": "execute_result"
    }
   ],
   "source": [
    "simple_nq = SimplifyNQ(dummy_example)\n",
    "simple_nq.get_nq_simplifyed()"
   ]
  },
  {
   "cell_type": "code",
   "execution_count": 6,
   "metadata": {},
   "outputs": [],
   "source": [
    "def save_json_simple(num_elements):\n",
    "    with jsonlines.open(train_nq_path) as reader:\n",
    "        with jsonlines.open('clean_nq_format.jsonl', mode='w') as writer:\n",
    "            for i, obj in enumerate(reader):\n",
    "                simple_nq = SimplifyNQ(obj)\n",
    "                writer.write(simple_nq.get_nq_simplifyed())\n",
    "                if i == num_elements:\n",
    "                    break"
   ]
  },
  {
   "cell_type": "code",
   "execution_count": 7,
   "metadata": {},
   "outputs": [],
   "source": [
    "save_json_simple(1000)"
   ]
  }
 ],
 "metadata": {
  "kernelspec": {
   "display_name": "myenv",
   "language": "python",
   "name": "myenv"
  },
  "language_info": {
   "codemirror_mode": {
    "name": "ipython",
    "version": 3
   },
   "file_extension": ".py",
   "mimetype": "text/x-python",
   "name": "python",
   "nbconvert_exporter": "python",
   "pygments_lexer": "ipython3",
   "version": "3.8.3"
  }
 },
 "nbformat": 4,
 "nbformat_minor": 4
}
